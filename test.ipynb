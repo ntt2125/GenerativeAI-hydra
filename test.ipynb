{
 "cells": [
  {
   "cell_type": "code",
   "execution_count": 4,
   "metadata": {},
   "outputs": [
    {
     "name": "stderr",
     "output_type": "stream",
     "text": [
      "usage: ipykernel_launcher.py [--help] [--hydra-help] [--version]\n",
      "                             [--cfg {job,hydra,all}] [--resolve]\n",
      "                             [--package PACKAGE] [--run] [--multirun]\n",
      "                             [--shell-completion] [--config-path CONFIG_PATH]\n",
      "                             [--config-name CONFIG_NAME]\n",
      "                             [--config-dir CONFIG_DIR]\n",
      "                             [--experimental-rerun EXPERIMENTAL_RERUN]\n",
      "                             [--info [{all,config,defaults,defaults-tree,plugins,searchpath}]]\n",
      "                             [overrides ...]\n",
      "ipykernel_launcher.py: error: unrecognized arguments: --f=/home/ntthong/.local/share/jupyter/runtime/kernel-v2-2958cV6kHYfHckNs.json\n"
     ]
    },
    {
     "ename": "SystemExit",
     "evalue": "2",
     "output_type": "error",
     "traceback": [
      "An exception has occurred, use %tb to see the full traceback.\n",
      "\u001b[0;31mSystemExit\u001b[0m\u001b[0;31m:\u001b[0m 2\n"
     ]
    }
   ],
   "source": [
    "import pyrootutils\n",
    "from omegaconf import DictConfig\n",
    "import hydra\n",
    "import numpy as np\n",
    "from PIL import Image, ImageDraw\n",
    "from tqdm import tqdm\n",
    "import matplotlib.pyplot as plt\n",
    "import torchvision\n",
    "from src.data.diff_datamodule import DIFF_Datamodule\n",
    "    \n",
    "# path = pyrootutils.find_root(\n",
    "#         search_from=__file__, indicator=\".project-root\"\n",
    "#     )\n",
    "config_path = \"/home/ntthong/NTT/2023_learning_skill/Diffusion_Model/diffusion-hydra/configs/data\"\n",
    "# output_path = path / \"outputs\"\n",
    "# print(\"root\", path, config_path)\n",
    "    \n",
    "def imshow(img):\n",
    "    print(img.shape)\n",
    "        # img = ((img + 1)/2)*255.0\n",
    "    img = img.permute(0, 2, 3, 1)\n",
    "    \n",
    "        # Make a grid of images\n",
    "    grid = torchvision.utils.make_grid(img, nrow=8)  # nrow controls the number of images in each row of the grid\n",
    "        \n",
    "        # Display the grid\n",
    "    plt.imshow(grid[:, :, 0], cmap='gray')  # Display the first channel of the grid (grayscale)\n",
    "    plt.show()\n",
    "    print(\"here\")\n",
    "        # print(np.max(img[0]))\n",
    "    \n",
    "def test_datamodule(cfg: DictConfig):\n",
    "    datamodule: DIFF_Datamodule = hydra.utils.instantiate(cfg)\n",
    "    datamodule.prepare_data()\n",
    "    datamodule.setup()\n",
    "    loader = datamodule.train_dataloader()\n",
    "        # print(type(loader))\n",
    "        \n",
    "    bx= next(iter(loader))\n",
    "        \n",
    "    print(f'type bx: {type(bx)}')\n",
    "    imshow(bx)\n",
    "        \n",
    "    print(\"n_batch\", len(loader), bx.shape, )\n",
    "        \n",
    "    for bx in tqdm(datamodule.train_dataloader()):\n",
    "            pass\n",
    "    print(\"training data passed\")\n",
    "        \n",
    "    for bx in tqdm(datamodule.val_dataloader()):\n",
    "            pass\n",
    "    print(\"val data passed\")\n",
    "        \n",
    "        \n",
    "        #* Plot batch of image\n",
    "        # imshow(torchvision.utils.make_grid(bx))\n",
    "    \n",
    "@hydra.main(version_base = \"1.3\", config_path=config_path, config_name=\"diff_dataset.yaml\")\n",
    "def main(cfg: DictConfig):\n",
    "    print(cfg)\n",
    "    test_datamodule(cfg)\n",
    "    \n",
    "main()"
   ]
  }
 ],
 "metadata": {
  "kernelspec": {
   "display_name": "diffusion",
   "language": "python",
   "name": "python3"
  },
  "language_info": {
   "codemirror_mode": {
    "name": "ipython",
    "version": 3
   },
   "file_extension": ".py",
   "mimetype": "text/x-python",
   "name": "python",
   "nbconvert_exporter": "python",
   "pygments_lexer": "ipython3",
   "version": "3.9.18"
  }
 },
 "nbformat": 4,
 "nbformat_minor": 2
}
